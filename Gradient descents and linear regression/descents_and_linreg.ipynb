{
  "cells": [
    {
      "cell_type": "code",
      "source": [
        "from google.colab import drive\n",
        "drive.mount('/content/drive')"
      ],
      "metadata": {
        "colab": {
          "base_uri": "https://localhost:8080/"
        },
        "id": "06NXxL_WnRWz",
        "outputId": "460e2972-8725-4439-eea1-a817fcd63208"
      },
      "execution_count": null,
      "outputs": [
        {
          "output_type": "stream",
          "name": "stdout",
          "text": [
            "Mounted at /content/drive\n"
          ]
        }
      ]
    },
    {
      "cell_type": "markdown",
      "metadata": {
        "pycharm": {
          "name": "#%% md\n"
        },
        "id": "-hLLLWOol8X3"
      },
      "source": [
        "### Немного теории № 1\n",
        "\n",
        "Основное свойство антиградиента &ndash; он указывает в сторону наискорейшего убывания функции в данной точке. Соответственно, будет логично стартовать из некоторой точки, сдвинуться в сторону антиградиента,\n",
        "пересчитать антиградиент и снова сдвинуться в его сторону и т.д. Запишем это более формально.\n",
        "\n",
        "Пусть $w_0$ &ndash; начальный набор параметров (например, нулевой или сгенерированный из некоторого\n",
        "случайного распределения). Тогда ванильный градиентный спуск состоит в повторении следующих шагов до сходимости:\n",
        "\n",
        "$$\n",
        "    w_{k + 1} = w_{k} - \\eta_{k} \\nabla_{w} Q(w_{k}).\n",
        "$$"
      ]
    },
    {
      "cell_type": "markdown",
      "metadata": {
        "pycharm": {
          "name": "#%% md\n"
        },
        "id": "I_9JDYARl8X5"
      },
      "source": [
        "### Немного теории № 2\n",
        "\n",
        "Функция потерь MSE записывается в матричном виде как:\n",
        "\n",
        "$$\n",
        "    Q(w) = \\dfrac{1}{\\ell} \\left( y - Xw \\right)^T \\left( y - Xw \\right)\n",
        "$$\n",
        "\n",
        "Градиент для функции потерь MSE в матричном виде:"
      ]
    },
    {
      "cell_type": "markdown",
      "metadata": {
        "pycharm": {
          "name": "#%% md\n"
        },
        "id": "D6UACnHTl8X6"
      },
      "source": [
        "$\\frac{-2X^{T}(y-Xω)}{l}$"
      ]
    },
    {
      "cell_type": "markdown",
      "metadata": {
        "pycharm": {
          "name": "#%% md\n"
        },
        "id": "cKoA5JZal8X9"
      },
      "source": [
        "### Немного теории № 3\n",
        "\n",
        "Как правило, в задачах машинного обучения функционал $Q(w)$ представим в виде суммы $\\ell$ функций:\n",
        "\n",
        "$$\n",
        "    Q(w)\n",
        "    =\n",
        "    \\frac{1}{\\ell}\n",
        "    \\sum_{i = 1}^{\\ell}\n",
        "        q_i(w).\n",
        "$$\n",
        "\n",
        "В нашем случае отдельные функции $q_i(w)$ соответствуют ошибкам на отдельных объектах.\n",
        "\n",
        "Проблема метода градиентного спуска состоит в том, что на каждом шаге необходимо вычислять градиент всей суммы (будем его называть полным градиентом):\n",
        "\n",
        "$$\n",
        "    \\nabla_w Q(w)\n",
        "    =\n",
        "    \\frac{1}{\\ell}\n",
        "    \\sum_{i = 1}^{\\ell}\n",
        "        \\nabla_w q_i(w).\n",
        "$$\n",
        "\n",
        "Это может быть очень трудоёмко при больших размерах выборки. В то же время точное вычисление градиента может быть не так уж необходимо &ndash; как правило, мы делаем не очень большие шаги в сторону антиградиента, и наличие в нём неточностей не должно сильно сказаться на общей траектории.\n",
        "\n",
        "Оценить градиент суммы функций можно средним градиентов случайно взятого подмножества функций:\n",
        "\n",
        "$$\n",
        "    \\nabla_{w} Q(w_{k}) \\approx \\dfrac{1}{|B|}\\sum\\limits_{i \\in B}\\nabla_{w} q_{i}(w_{k}),\n",
        "$$\n",
        "где $B$ - это случайно выбранное подмножество индексов.\n",
        "\n",
        "В этом случае мы получим метод **стохастического градиентного спуска**."
      ]
    },
    {
      "cell_type": "markdown",
      "metadata": {
        "pycharm": {
          "name": "#%% md\n"
        },
        "id": "FXoy-Jxfl8YB"
      },
      "source": [
        "### Немного теории № 4\n",
        "\n",
        "Может оказаться, что направление антиградиента сильно меняется от шага к шагу. Например, если линии уровня функционала сильно вытянуты, то из-за ортогональности градиента линиям уровня он будет менять направление на почти противоположное на каждом шаге. Такие осцилляции будут вносить сильный шум в движение, и процесс оптимизации займёт много итераций. Чтобы избежать этого, можно усреднять векторы антиградиента с нескольких предыдущих шагов &ndash; в этом случае шум уменьшится, и такой средний вектор будет указывать в сторону общего направления движения. Введём для этого вектор инерции:\n",
        "\n",
        "\\begin{align}\n",
        "    &h_0 = 0, \\\\\n",
        "    &h_{k + 1} = \\alpha h_{k} + \\eta_k \\nabla_w Q(w_{k})\n",
        "\\end{align}\n",
        "\n",
        "Здесь $\\alpha$ &ndash; параметр метода, определяющей скорость затухания градиентов с предыдущих шагов. Разумеется, вместо вектора градиента может быть использована его аппроксимация. Чтобы сделать шаг градиентного спуска, просто сдвинем предыдущую точку на вектор инерции:\n",
        "\n",
        "$$\n",
        "    w_{k + 1} = w_{k} - h_{k + 1}.\n",
        "$$\n",
        "\n",
        "Заметим, что если по какой-то координате градиент постоянно меняет знак, то в результате усреднения градиентов в векторе инерции эта координата окажется близкой к нулю. Если же по координате знак градиента всегда одинаковый, то величина соответствующей координаты в векторе инерции будет большой, и мы будем делать большие шаги в соответствующем направлении."
      ]
    },
    {
      "cell_type": "markdown",
      "metadata": {
        "pycharm": {
          "name": "#%% md\n"
        },
        "id": "Wkkcevxjl8YN"
      },
      "source": [
        "### Немного теории № 5\n",
        "\n",
        "Градиентный спуск очень чувствителен к выбору длины шага. Если шаг большой, то есть риск, что мы будем перескакивать через точку минимума; если же шаг маленький, то для нахождения минимума потребуется много итераций. При этом нет способов заранее определить правильный размер шага &ndash; к тому же, схемы с постепенным уменьшением шага по мере итераций могут тоже плохо работать.\n",
        "\n",
        "В методе AdaGrad предлагается сделать свою длину шага для каждой компоненты вектора параметров. При этом шаг будет тем меньше, чем более длинные шаги мы делали на предыдущих итерациях:\n",
        "\n",
        "\\begin{align}\n",
        "    &G_{kj} = G_{k-1,j} + (\\nabla_w Q(w_{k - 1}))_j^2; \\\\\n",
        "    &w_{jk} = w_{j,k-1} - \\frac{\\eta_t}{\\sqrt{G_{kj}} + \\varepsilon} (\\nabla_w Q(w_{k - 1}))_j.\n",
        "\\end{align}\n",
        "\n",
        "Здесь $\\varepsilon$ небольшая константа, которая предотвращает деление на ноль.\n",
        "\n",
        "В данном методе можно зафксировать длину шага (например, $\\eta_k = 0.01$) и не подбирать её в процессе обучения. Отметим, что данный метод подходит для разреженных задач, в которых у каждого объекта большинство признаков равны нулю. Для признаков, у которых ненулевые значения встречаются редко, будут делаться большие шаги; если же какой-то признак часто является ненулевым, то шаги по нему будут небольшими.\n",
        "\n",
        "У метода AdaGrad есть большой недостаток: переменная $G_{kj}$ монотонно растёт, из-за чего шаги становятся всё медленнее и могут остановиться ещё до того, как достигнут минимум функционала. Проблема решается в методе RMSprop, где используется экспоненциальное затухание градиентов:\n",
        "\n",
        "$$\n",
        "    G_{kj} = \\alpha G_{k-1,j} + (1 - \\alpha) (\\nabla_w Q(w^{(k-1)}))_j^2.\n",
        "$$\n",
        "\n",
        "В этом случае размер шага по координате зависит в основном от того, насколько\n",
        "быстро мы двигались по ней на последних итерациях.\n",
        "\n",
        "Можно объединить идеи описанных выше методов: накапливать градиенты со всех прошлых шагов для\n",
        "избежания осцилляций и делать адаптивную длину шага по каждому параметру."
      ]
    },
    {
      "cell_type": "markdown",
      "metadata": {
        "pycharm": {
          "name": "#%% md\n"
        },
        "id": "htKw6gyul8YZ"
      },
      "source": [
        "## Проверка кода"
      ]
    },
    {
      "cell_type": "code",
      "source": [
        "!cp /content/drive/MyDrive/HSEHomework/3/descents.py .\n",
        "!cp /content/drive/MyDrive/HSEHomework/3/linear_regression.py ."
      ],
      "metadata": {
        "id": "f4CT7d9ZoxnL"
      },
      "execution_count": null,
      "outputs": []
    },
    {
      "cell_type": "code",
      "execution_count": null,
      "metadata": {
        "pycharm": {
          "name": "#%%\n"
        },
        "id": "Y4wEfL73l8Ye"
      },
      "outputs": [],
      "source": [
        "%load_ext autoreload"
      ]
    },
    {
      "cell_type": "code",
      "execution_count": null,
      "metadata": {
        "pycharm": {
          "name": "#%%\n"
        },
        "id": "R4eMHr9Al8Yi"
      },
      "outputs": [],
      "source": [
        "%autoreload 2\n",
        "\n",
        "import numpy as np\n",
        "\n",
        "from descents import get_descent\n",
        "from linear_regression import LinearRegression"
      ]
    },
    {
      "cell_type": "code",
      "execution_count": null,
      "metadata": {
        "pycharm": {
          "name": "#%%\n"
        },
        "id": "qJYYp3kpl8Yk"
      },
      "outputs": [],
      "source": [
        "num_objects = 100\n",
        "dimension = 5\n",
        "\n",
        "x = np.random.rand(num_objects, dimension)\n",
        "y = np.random.rand(num_objects)"
      ]
    },
    {
      "cell_type": "code",
      "execution_count": null,
      "metadata": {
        "pycharm": {
          "name": "#%%\n"
        },
        "id": "kAtqQwOtl8Yn"
      },
      "outputs": [],
      "source": [
        "# Descents\n",
        "\n",
        "descent_config = {\n",
        "    'descent_name': 'some name that we will replace in the future',\n",
        "    'kwargs': {\n",
        "        'dimension': dimension\n",
        "    }\n",
        "}\n",
        "\n",
        "for descent_name in ['full', 'stochastic', 'momentum', 'adam']:\n",
        "    descent_config['descent_name'] = descent_name\n",
        "    descent = get_descent(descent_config)\n",
        "\n",
        "    diff = descent.step(x, y)\n",
        "    gradient = descent.calc_gradient(x, y)\n",
        "    predictions = descent.predict(x)\n",
        "\n",
        "\n",
        "    assert gradient.shape[0] == dimension, f'Gradient failed for descent {descent_name}'\n",
        "    assert diff.shape[0] == dimension, f'Weights failed for descent {descent_name}'\n",
        "    assert predictions.shape == y.shape, f'Prediction failed for descent {descent_name}'"
      ]
    },
    {
      "cell_type": "code",
      "execution_count": null,
      "metadata": {
        "pycharm": {
          "name": "#%%\n"
        },
        "id": "Kpui0Gw3l8Yo"
      },
      "outputs": [],
      "source": [
        "# LinearRegression\n",
        "\n",
        "max_iter = 10\n",
        "tolerance = 0\n",
        "\n",
        "descent_config = {\n",
        "    'descent_name': 'stochastic',\n",
        "    'kwargs': {\n",
        "        'dimension': dimension,\n",
        "        'batch_size': 10\n",
        "    }\n",
        "}\n",
        "\n",
        "regression = LinearRegression(\n",
        "    descent_config=descent_config,\n",
        "    tolerance=tolerance,\n",
        "    max_iter=max_iter\n",
        ")\n",
        "\n",
        "regression.fit(x, y)\n",
        "\n",
        "assert len(regression.loss_history) == max_iter + 1, 'Loss history failed'"
      ]
    },
    {
      "cell_type": "markdown",
      "metadata": {
        "pycharm": {
          "name": "#%% md\n"
        },
        "id": "gJApxo-Sl8Yq"
      },
      "source": [
        "## Работа с данными\n",
        "\n",
        "Мы будем использовать датасет объявлений по продаже машин на немецком Ebay. В задаче предсказания целевой переменной для нас будет являться цена."
      ]
    },
    {
      "cell_type": "markdown",
      "metadata": {
        "pycharm": {
          "name": "#%% md\n"
        },
        "id": "SBGssoaSl8Yq"
      },
      "source": [
        "* Проведём следующее исследование данных:\n",
        "    * Проанализируем тип столбцов, построим графики зависимости целевой переменной от признака, распределения значений признака;\n",
        "    * Определим, какие признаки могут быть полезными на основе этих графиков, обработаем выбросы;\n",
        "    * Определим, какие трансформации признаков будет уместно применить;\n",
        "    * Разделим полезные признаки на категориальные, вещественные и те, которые не надо предобрабатывать.\n",
        "* Разделим данные на обучающую, валидационную и тестовую выборки в отношении 8:1:1."
      ]
    },
    {
      "cell_type": "code",
      "execution_count": null,
      "metadata": {
        "pycharm": {
          "name": "#%%\n"
        },
        "id": "pilm9T0el8Yr"
      },
      "outputs": [],
      "source": [
        "import numpy as np\n",
        "import pandas as pd\n",
        "\n",
        "import matplotlib.pyplot as plt\n",
        "import seaborn as sns\n",
        "\n",
        "from descents import get_descent\n",
        "from linear_regression import LinearRegression\n",
        "\n",
        "sns.set(style='darkgrid')"
      ]
    },
    {
      "cell_type": "code",
      "execution_count": null,
      "metadata": {
        "pycharm": {
          "name": "#%%\n"
        },
        "id": "n1ZTF1GIl8Yr"
      },
      "outputs": [],
      "source": [
        "data = pd.read_csv('/content/drive/MyDrive/HSEHomework/3/autos.csv')"
      ]
    },
    {
      "cell_type": "code",
      "execution_count": null,
      "metadata": {
        "pycharm": {
          "name": "#%%\n"
        },
        "id": "8S3dBHgfl8Ys",
        "colab": {
          "base_uri": "https://localhost:8080/",
          "height": 206
        },
        "outputId": "92bc84b0-791f-4bd4-ec13-bfd963392496"
      },
      "outputs": [
        {
          "output_type": "execute_result",
          "data": {
            "text/plain": [
              "        brand    model vehicleType  gearbox fuelType notRepairedDamage  \\\n",
              "0  volkswagen     golf  kleinwagen  manuell   benzin              nein   \n",
              "1       skoda    fabia  kleinwagen  manuell   diesel              nein   \n",
              "2         bmw      3er   limousine  manuell   benzin                ja   \n",
              "3     peugeot  2_reihe      cabrio  manuell   benzin              nein   \n",
              "4       mazda  3_reihe   limousine  manuell   benzin              nein   \n",
              "\n",
              "   powerPS  kilometer  autoAgeMonths  price  \n",
              "0       75     150000            177   1500  \n",
              "1       69      90000             93   3600  \n",
              "2      102     150000            246    650  \n",
              "3      109     150000            140   2200  \n",
              "4      105     150000            136   2000  "
            ],
            "text/html": [
              "\n",
              "  <div id=\"df-3172bfbf-4a30-4ec2-9978-7b21b65cd612\">\n",
              "    <div class=\"colab-df-container\">\n",
              "      <div>\n",
              "<style scoped>\n",
              "    .dataframe tbody tr th:only-of-type {\n",
              "        vertical-align: middle;\n",
              "    }\n",
              "\n",
              "    .dataframe tbody tr th {\n",
              "        vertical-align: top;\n",
              "    }\n",
              "\n",
              "    .dataframe thead th {\n",
              "        text-align: right;\n",
              "    }\n",
              "</style>\n",
              "<table border=\"1\" class=\"dataframe\">\n",
              "  <thead>\n",
              "    <tr style=\"text-align: right;\">\n",
              "      <th></th>\n",
              "      <th>brand</th>\n",
              "      <th>model</th>\n",
              "      <th>vehicleType</th>\n",
              "      <th>gearbox</th>\n",
              "      <th>fuelType</th>\n",
              "      <th>notRepairedDamage</th>\n",
              "      <th>powerPS</th>\n",
              "      <th>kilometer</th>\n",
              "      <th>autoAgeMonths</th>\n",
              "      <th>price</th>\n",
              "    </tr>\n",
              "  </thead>\n",
              "  <tbody>\n",
              "    <tr>\n",
              "      <th>0</th>\n",
              "      <td>volkswagen</td>\n",
              "      <td>golf</td>\n",
              "      <td>kleinwagen</td>\n",
              "      <td>manuell</td>\n",
              "      <td>benzin</td>\n",
              "      <td>nein</td>\n",
              "      <td>75</td>\n",
              "      <td>150000</td>\n",
              "      <td>177</td>\n",
              "      <td>1500</td>\n",
              "    </tr>\n",
              "    <tr>\n",
              "      <th>1</th>\n",
              "      <td>skoda</td>\n",
              "      <td>fabia</td>\n",
              "      <td>kleinwagen</td>\n",
              "      <td>manuell</td>\n",
              "      <td>diesel</td>\n",
              "      <td>nein</td>\n",
              "      <td>69</td>\n",
              "      <td>90000</td>\n",
              "      <td>93</td>\n",
              "      <td>3600</td>\n",
              "    </tr>\n",
              "    <tr>\n",
              "      <th>2</th>\n",
              "      <td>bmw</td>\n",
              "      <td>3er</td>\n",
              "      <td>limousine</td>\n",
              "      <td>manuell</td>\n",
              "      <td>benzin</td>\n",
              "      <td>ja</td>\n",
              "      <td>102</td>\n",
              "      <td>150000</td>\n",
              "      <td>246</td>\n",
              "      <td>650</td>\n",
              "    </tr>\n",
              "    <tr>\n",
              "      <th>3</th>\n",
              "      <td>peugeot</td>\n",
              "      <td>2_reihe</td>\n",
              "      <td>cabrio</td>\n",
              "      <td>manuell</td>\n",
              "      <td>benzin</td>\n",
              "      <td>nein</td>\n",
              "      <td>109</td>\n",
              "      <td>150000</td>\n",
              "      <td>140</td>\n",
              "      <td>2200</td>\n",
              "    </tr>\n",
              "    <tr>\n",
              "      <th>4</th>\n",
              "      <td>mazda</td>\n",
              "      <td>3_reihe</td>\n",
              "      <td>limousine</td>\n",
              "      <td>manuell</td>\n",
              "      <td>benzin</td>\n",
              "      <td>nein</td>\n",
              "      <td>105</td>\n",
              "      <td>150000</td>\n",
              "      <td>136</td>\n",
              "      <td>2000</td>\n",
              "    </tr>\n",
              "  </tbody>\n",
              "</table>\n",
              "</div>\n",
              "      <button class=\"colab-df-convert\" onclick=\"convertToInteractive('df-3172bfbf-4a30-4ec2-9978-7b21b65cd612')\"\n",
              "              title=\"Convert this dataframe to an interactive table.\"\n",
              "              style=\"display:none;\">\n",
              "        \n",
              "  <svg xmlns=\"http://www.w3.org/2000/svg\" height=\"24px\"viewBox=\"0 0 24 24\"\n",
              "       width=\"24px\">\n",
              "    <path d=\"M0 0h24v24H0V0z\" fill=\"none\"/>\n",
              "    <path d=\"M18.56 5.44l.94 2.06.94-2.06 2.06-.94-2.06-.94-.94-2.06-.94 2.06-2.06.94zm-11 1L8.5 8.5l.94-2.06 2.06-.94-2.06-.94L8.5 2.5l-.94 2.06-2.06.94zm10 10l.94 2.06.94-2.06 2.06-.94-2.06-.94-.94-2.06-.94 2.06-2.06.94z\"/><path d=\"M17.41 7.96l-1.37-1.37c-.4-.4-.92-.59-1.43-.59-.52 0-1.04.2-1.43.59L10.3 9.45l-7.72 7.72c-.78.78-.78 2.05 0 2.83L4 21.41c.39.39.9.59 1.41.59.51 0 1.02-.2 1.41-.59l7.78-7.78 2.81-2.81c.8-.78.8-2.07 0-2.86zM5.41 20L4 18.59l7.72-7.72 1.47 1.35L5.41 20z\"/>\n",
              "  </svg>\n",
              "      </button>\n",
              "      \n",
              "  <style>\n",
              "    .colab-df-container {\n",
              "      display:flex;\n",
              "      flex-wrap:wrap;\n",
              "      gap: 12px;\n",
              "    }\n",
              "\n",
              "    .colab-df-convert {\n",
              "      background-color: #E8F0FE;\n",
              "      border: none;\n",
              "      border-radius: 50%;\n",
              "      cursor: pointer;\n",
              "      display: none;\n",
              "      fill: #1967D2;\n",
              "      height: 32px;\n",
              "      padding: 0 0 0 0;\n",
              "      width: 32px;\n",
              "    }\n",
              "\n",
              "    .colab-df-convert:hover {\n",
              "      background-color: #E2EBFA;\n",
              "      box-shadow: 0px 1px 2px rgba(60, 64, 67, 0.3), 0px 1px 3px 1px rgba(60, 64, 67, 0.15);\n",
              "      fill: #174EA6;\n",
              "    }\n",
              "\n",
              "    [theme=dark] .colab-df-convert {\n",
              "      background-color: #3B4455;\n",
              "      fill: #D2E3FC;\n",
              "    }\n",
              "\n",
              "    [theme=dark] .colab-df-convert:hover {\n",
              "      background-color: #434B5C;\n",
              "      box-shadow: 0px 1px 3px 1px rgba(0, 0, 0, 0.15);\n",
              "      filter: drop-shadow(0px 1px 2px rgba(0, 0, 0, 0.3));\n",
              "      fill: #FFFFFF;\n",
              "    }\n",
              "  </style>\n",
              "\n",
              "      <script>\n",
              "        const buttonEl =\n",
              "          document.querySelector('#df-3172bfbf-4a30-4ec2-9978-7b21b65cd612 button.colab-df-convert');\n",
              "        buttonEl.style.display =\n",
              "          google.colab.kernel.accessAllowed ? 'block' : 'none';\n",
              "\n",
              "        async function convertToInteractive(key) {\n",
              "          const element = document.querySelector('#df-3172bfbf-4a30-4ec2-9978-7b21b65cd612');\n",
              "          const dataTable =\n",
              "            await google.colab.kernel.invokeFunction('convertToInteractive',\n",
              "                                                     [key], {});\n",
              "          if (!dataTable) return;\n",
              "\n",
              "          const docLinkHtml = 'Like what you see? Visit the ' +\n",
              "            '<a target=\"_blank\" href=https://colab.research.google.com/notebooks/data_table.ipynb>data table notebook</a>'\n",
              "            + ' to learn more about interactive tables.';\n",
              "          element.innerHTML = '';\n",
              "          dataTable['output_type'] = 'display_data';\n",
              "          await google.colab.output.renderOutput(dataTable, element);\n",
              "          const docLink = document.createElement('div');\n",
              "          docLink.innerHTML = docLinkHtml;\n",
              "          element.appendChild(docLink);\n",
              "        }\n",
              "      </script>\n",
              "    </div>\n",
              "  </div>\n",
              "  "
            ]
          },
          "metadata": {},
          "execution_count": 10
        }
      ],
      "source": [
        "data.head()"
      ]
    },
    {
      "cell_type": "code",
      "source": [
        "data.isnull().sum()"
      ],
      "metadata": {
        "colab": {
          "base_uri": "https://localhost:8080/"
        },
        "id": "-n0WS3eCKG6U",
        "outputId": "b57166df-619d-40ba-eeb6-919334e72e8e"
      },
      "execution_count": null,
      "outputs": [
        {
          "output_type": "execute_result",
          "data": {
            "text/plain": [
              "brand                0\n",
              "model                0\n",
              "vehicleType          0\n",
              "gearbox              0\n",
              "fuelType             0\n",
              "notRepairedDamage    0\n",
              "powerPS              0\n",
              "kilometer            0\n",
              "autoAgeMonths        0\n",
              "price                0\n",
              "dtype: int64"
            ]
          },
          "metadata": {},
          "execution_count": 11
        }
      ]
    },
    {
      "cell_type": "markdown",
      "metadata": {
        "pycharm": {
          "name": "#%% md\n"
        },
        "id": "gB2gdUoYl8Yt"
      },
      "source": [
        "Колонки в данных:\n",
        "\n",
        "* `brand` - название бренда автомобиля\n",
        "* `model` - название модели автомобиля\n",
        "* `vehicleType` - тип транспортного средства\n",
        "* `gearbox` - тип трансмисcии\n",
        "* `fuelType` - какой вид топлива использует автомобиль\n",
        "* `notRepairedDamage` - есть ли в автомобиле неисправность, которая еще не устранена\n",
        "* `powerPS` - мощность автомобиля в PS (метрическая лошадиная сила)\n",
        "* `kilometer` - сколько километров проехал автомобиль, пробег\n",
        "* `autoAgeMonths` - возраст автомобиля в месяцах\n",
        "\n",
        "\n",
        "* `price` - цена, указанная в объявлении о продаже автомобиля (целевая переменная)"
      ]
    },
    {
      "cell_type": "code",
      "source": [
        "data.shape"
      ],
      "metadata": {
        "id": "EDmQQULCIgRG",
        "colab": {
          "base_uri": "https://localhost:8080/"
        },
        "outputId": "12c06b79-e661-4a24-8a89-13092f1fe643"
      },
      "execution_count": null,
      "outputs": [
        {
          "output_type": "execute_result",
          "data": {
            "text/plain": [
              "(241190, 10)"
            ]
          },
          "metadata": {},
          "execution_count": 12
        }
      ]
    },
    {
      "cell_type": "code",
      "source": [
        "corr = data.corrwith(data['price'])\n",
        "sns.barplot(x=corr.values, y=corr.index)"
      ],
      "metadata": {
        "id": "KuUJuK5sJVvk",
        "colab": {
          "base_uri": "https://localhost:8080/",
          "height": 285
        },
        "outputId": "9c16e226-2db4-4223-e9f0-690595e8b528"
      },
      "execution_count": null,
      "outputs": [
        {
          "output_type": "execute_result",
          "data": {
            "text/plain": [
              "<Axes: >"
            ]
          },
          "metadata": {},
          "execution_count": 13
        },
        {
          "output_type": "display_data",
          "data": {
            "text/plain": [
              "<Figure size 432x288 with 1 Axes>"
            ],
            "image/png": "[encoded data removed]"
          },
          "metadata": {}
        }
      ]
    },
    {
      "cell_type": "code",
      "source": [
        "data.describe()"
      ],
      "metadata": {
        "id": "0w1cgYZnKMgf",
        "colab": {
          "base_uri": "https://localhost:8080/",
          "height": 300
        },
        "outputId": "f3858964-ce37-44d6-e3a7-918ba022f540"
      },
      "execution_count": null,
      "outputs": [
        {
          "output_type": "execute_result",
          "data": {
            "text/plain": [
              "             powerPS      kilometer  autoAgeMonths          price\n",
              "count  241190.000000  241190.000000  241190.000000  241190.000000\n",
              "mean      131.271628  123766.677723     144.768676    6887.741892\n",
              "std        60.622613   39825.955933      73.092598    8024.451993\n",
              "min        51.000000    5000.000000       1.000000       1.000000\n",
              "25%        90.000000  100000.000000      92.000000    1750.000000\n",
              "50%       120.000000  150000.000000     140.000000    4100.000000\n",
              "75%       160.000000  150000.000000     192.000000    8999.000000\n",
              "max       589.000000  150000.000000     600.000000   99999.000000"
            ],
            "text/html": [
              "\n",
              "  <div id=\"df-9596ec57-795d-432e-a17f-feb83dab31d4\">\n",
              "    <div class=\"colab-df-container\">\n",
              "      <div>\n",
              "<style scoped>\n",
              "    .dataframe tbody tr th:only-of-type {\n",
              "        vertical-align: middle;\n",
              "    }\n",
              "\n",
              "    .dataframe tbody tr th {\n",
              "        vertical-align: top;\n",
              "    }\n",
              "\n",
              "    .dataframe thead th {\n",
              "        text-align: right;\n",
              "    }\n",
              "</style>\n",
              "<table border=\"1\" class=\"dataframe\">\n",
              "  <thead>\n",
              "    <tr style=\"text-align: right;\">\n",
              "      <th></th>\n",
              "      <th>powerPS</th>\n",
              "      <th>kilometer</th>\n",
              "      <th>autoAgeMonths</th>\n",
              "      <th>price</th>\n",
              "    </tr>\n",
              "  </thead>\n",
              "  <tbody>\n",
              "    <tr>\n",
              "      <th>count</th>\n",
              "      <td>241190.000000</td>\n",
              "      <td>241190.000000</td>\n",
              "      <td>241190.000000</td>\n",
              "      <td>241190.000000</td>\n",
              "    </tr>\n",
              "    <tr>\n",
              "      <th>mean</th>\n",
              "      <td>131.271628</td>\n",
              "      <td>123766.677723</td>\n",
              "      <td>144.768676</td>\n",
              "      <td>6887.741892</td>\n",
              "    </tr>\n",
              "    <tr>\n",
              "      <th>std</th>\n",
              "      <td>60.622613</td>\n",
              "      <td>39825.955933</td>\n",
              "      <td>73.092598</td>\n",
              "      <td>8024.451993</td>\n",
              "    </tr>\n",
              "    <tr>\n",
              "      <th>min</th>\n",
              "      <td>51.000000</td>\n",
              "      <td>5000.000000</td>\n",
              "      <td>1.000000</td>\n",
              "      <td>1.000000</td>\n",
              "    </tr>\n",
              "    <tr>\n",
              "      <th>25%</th>\n",
              "      <td>90.000000</td>\n",
              "      <td>100000.000000</td>\n",
              "      <td>92.000000</td>\n",
              "      <td>1750.000000</td>\n",
              "    </tr>\n",
              "    <tr>\n",
              "      <th>50%</th>\n",
              "      <td>120.000000</td>\n",
              "      <td>150000.000000</td>\n",
              "      <td>140.000000</td>\n",
              "      <td>4100.000000</td>\n",
              "    </tr>\n",
              "    <tr>\n",
              "      <th>75%</th>\n",
              "      <td>160.000000</td>\n",
              "      <td>150000.000000</td>\n",
              "      <td>192.000000</td>\n",
              "      <td>8999.000000</td>\n",
              "    </tr>\n",
              "    <tr>\n",
              "      <th>max</th>\n",
              "      <td>589.000000</td>\n",
              "      <td>150000.000000</td>\n",
              "      <td>600.000000</td>\n",
              "      <td>99999.000000</td>\n",
              "    </tr>\n",
              "  </tbody>\n",
              "</table>\n",
              "</div>\n",
              "      <button class=\"colab-df-convert\" onclick=\"convertToInteractive('df-9596ec57-795d-432e-a17f-feb83dab31d4')\"\n",
              "              title=\"Convert this dataframe to an interactive table.\"\n",
              "              style=\"display:none;\">\n",
              "        \n",
              "  <svg xmlns=\"http://www.w3.org/2000/svg\" height=\"24px\"viewBox=\"0 0 24 24\"\n",
              "       width=\"24px\">\n",
              "    <path d=\"M0 0h24v24H0V0z\" fill=\"none\"/>\n",
              "    <path d=\"M18.56 5.44l.94 2.06.94-2.06 2.06-.94-2.06-.94-.94-2.06-.94 2.06-2.06.94zm-11 1L8.5 8.5l.94-2.06 2.06-.94-2.06-.94L8.5 2.5l-.94 2.06-2.06.94zm10 10l.94 2.06.94-2.06 2.06-.94-2.06-.94-.94-2.06-.94 2.06-2.06.94z\"/><path d=\"M17.41 7.96l-1.37-1.37c-.4-.4-.92-.59-1.43-.59-.52 0-1.04.2-1.43.59L10.3 9.45l-7.72 7.72c-.78.78-.78 2.05 0 2.83L4 21.41c.39.39.9.59 1.41.59.51 0 1.02-.2 1.41-.59l7.78-7.78 2.81-2.81c.8-.78.8-2.07 0-2.86zM5.41 20L4 18.59l7.72-7.72 1.47 1.35L5.41 20z\"/>\n",
              "  </svg>\n",
              "      </button>\n",
              "      \n",
              "  <style>\n",
              "    .colab-df-container {\n",
              "      display:flex;\n",
              "      flex-wrap:wrap;\n",
              "      gap: 12px;\n",
              "    }\n",
              "\n",
              "    .colab-df-convert {\n",
              "      background-color: #E8F0FE;\n",
              "      border: none;\n",
              "      border-radius: 50%;\n",
              "      cursor: pointer;\n",
              "      display: none;\n",
              "      fill: #1967D2;\n",
              "      height: 32px;\n",
              "      padding: 0 0 0 0;\n",
              "      width: 32px;\n",
              "    }\n",
              "\n",
              "    .colab-df-convert:hover {\n",
              "      background-color: #E2EBFA;\n",
              "      box-shadow: 0px 1px 2px rgba(60, 64, 67, 0.3), 0px 1px 3px 1px rgba(60, 64, 67, 0.15);\n",
              "      fill: #174EA6;\n",
              "    }\n",
              "\n",
              "    [theme=dark] .colab-df-convert {\n",
              "      background-color: #3B4455;\n",
              "      fill: #D2E3FC;\n",
              "    }\n",
              "\n",
              "    [theme=dark] .colab-df-convert:hover {\n",
              "      background-color: #434B5C;\n",
              "      box-shadow: 0px 1px 3px 1px rgba(0, 0, 0, 0.15);\n",
              "      filter: drop-shadow(0px 1px 2px rgba(0, 0, 0, 0.3));\n",
              "      fill: #FFFFFF;\n",
              "    }\n",
              "  </style>\n",
              "\n",
              "      <script>\n",
              "        const buttonEl =\n",
              "          document.querySelector('#df-9596ec57-795d-432e-a17f-feb83dab31d4 button.colab-df-convert');\n",
              "        buttonEl.style.display =\n",
              "          google.colab.kernel.accessAllowed ? 'block' : 'none';\n",
              "\n",
              "        async function convertToInteractive(key) {\n",
              "          const element = document.querySelector('#df-9596ec57-795d-432e-a17f-feb83dab31d4');\n",
              "          const dataTable =\n",
              "            await google.colab.kernel.invokeFunction('convertToInteractive',\n",
              "                                                     [key], {});\n",
              "          if (!dataTable) return;\n",
              "\n",
              "          const docLinkHtml = 'Like what you see? Visit the ' +\n",
              "            '<a target=\"_blank\" href=https://colab.research.google.com/notebooks/data_table.ipynb>data table notebook</a>'\n",
              "            + ' to learn more about interactive tables.';\n",
              "          element.innerHTML = '';\n",
              "          dataTable['output_type'] = 'display_data';\n",
              "          await google.colab.output.renderOutput(dataTable, element);\n",
              "          const docLink = document.createElement('div');\n",
              "          docLink.innerHTML = docLinkHtml;\n",
              "          element.appendChild(docLink);\n",
              "        }\n",
              "      </script>\n",
              "    </div>\n",
              "  </div>\n",
              "  "
            ]
          },
          "metadata": {},
          "execution_count": 14
        }
      ]
    },
    {
      "cell_type": "code",
      "source": [
        "fig, axes = plt.subplots(1, 2)\n",
        "fig.set_size_inches(19, 10.5)\n",
        "plt.subplot(1, 2, 1)\n",
        "plt.hist(data['price'], bins=100)\n",
        "\n",
        "plt.subplot(1, 2, 2)\n",
        "plt.hist(np.log1p(data['price']), bins=100)\n",
        "\n",
        "plt.show()"
      ],
      "metadata": {
        "id": "FaN5XxyxOVpE",
        "colab": {
          "base_uri": "https://localhost:8080/",
          "height": 621
        },
        "outputId": "f55b0d34-2579-48ba-aa69-c1229e45cb78"
      },
      "execution_count": null,
      "outputs": [
        {
          "output_type": "display_data",
          "data": {
            "text/plain": [
              "<Figure size 1368x756 with 2 Axes>"
            ],
            "image/png": "[encoded data removed]"
          },
          "metadata": {}
        }
      ]
    },
    {
      "cell_type": "code",
      "source": [
        "sns.set(rc={\"figure.figsize\":(30, 12)})\n",
        "sns.boxplot(data=data, x='brand', y='price')"
      ],
      "metadata": {
        "id": "cn_tQo2O0Z_L",
        "colab": {
          "base_uri": "https://localhost:8080/",
          "height": 601
        },
        "outputId": "66ba0e78-ec39-485b-dd8a-03a416f64fd1"
      },
      "execution_count": null,
      "outputs": [
        {
          "output_type": "execute_result",
          "data": {
            "text/plain": [
              "<Axes: xlabel='brand', ylabel='price'>"
            ]
          },
          "metadata": {},
          "execution_count": 16
        },
        {
          "output_type": "display_data",
          "data": {
            "text/plain": [
              "<Figure size 2160x864 with 1 Axes>"
            ],
            "image/png": "[encoded data removed]"
          },
          "metadata": {}
        }
      ]
    },
    {
      "cell_type": "code",
      "source": [
        "sns.set(rc={\"figure.figsize\":(20, 12)})\n",
        "sns.boxplot(data=data, x='vehicleType', y='price')"
      ],
      "metadata": {
        "id": "zuBcNmMY401T",
        "colab": {
          "base_uri": "https://localhost:8080/",
          "height": 737
        },
        "outputId": "9cc10e39-a8f0-417e-9396-d416d1d83d2b"
      },
      "execution_count": null,
      "outputs": [
        {
          "output_type": "execute_result",
          "data": {
            "text/plain": [
              "<Axes: xlabel='vehicleType', ylabel='price'>"
            ]
          },
          "metadata": {},
          "execution_count": 17
        },
        {
          "output_type": "display_data",
          "data": {
            "text/plain": [
              "<Figure size 1440x864 with 1 Axes>"
            ],
            "image/png": "[encoded data removed]"
          },
          "metadata": {}
        }
      ]
    },
    {
      "cell_type": "code",
      "source": [
        "data.model.nunique()"
      ],
      "metadata": {
        "id": "MY1yjr15BKIJ",
        "colab": {
          "base_uri": "https://localhost:8080/"
        },
        "outputId": "3eea8add-6ba5-4a56-9836-21895c624b1e"
      },
      "execution_count": null,
      "outputs": [
        {
          "output_type": "execute_result",
          "data": {
            "text/plain": [
              "249"
            ]
          },
          "metadata": {},
          "execution_count": 18
        }
      ]
    },
    {
      "cell_type": "code",
      "source": [
        "sns.boxplot(data=data, x='gearbox', y='price')"
      ],
      "metadata": {
        "id": "W1cCh3SZ5Sa3",
        "colab": {
          "base_uri": "https://localhost:8080/",
          "height": 737
        },
        "outputId": "1d6fa22f-2ee9-4e36-938a-fce9b1294ddc"
      },
      "execution_count": null,
      "outputs": [
        {
          "output_type": "execute_result",
          "data": {
            "text/plain": [
              "<Axes: xlabel='gearbox', ylabel='price'>"
            ]
          },
          "metadata": {},
          "execution_count": 19
        },
        {
          "output_type": "display_data",
          "data": {
            "text/plain": [
              "<Figure size 1440x864 with 1 Axes>"
            ],
            "image/png": "[encoded data removed]"
          },
          "metadata": {}
        }
      ]
    },
    {
      "cell_type": "code",
      "source": [
        "sns.boxplot(data=data, x='fuelType', y='price')"
      ],
      "metadata": {
        "id": "zCe8Rw3g5bbR",
        "colab": {
          "base_uri": "https://localhost:8080/",
          "height": 737
        },
        "outputId": "3a451b58-c875-426a-83a7-7d3be135c18b"
      },
      "execution_count": null,
      "outputs": [
        {
          "output_type": "execute_result",
          "data": {
            "text/plain": [
              "<Axes: xlabel='fuelType', ylabel='price'>"
            ]
          },
          "metadata": {},
          "execution_count": 20
        },
        {
          "output_type": "display_data",
          "data": {
            "text/plain": [
              "<Figure size 1440x864 with 1 Axes>"
            ],
            "image/png": "[encoded data removed]"
          },
          "metadata": {}
        }
      ]
    },
    {
      "cell_type": "code",
      "source": [
        "sns.boxplot(data=data, x='notRepairedDamage', y='price')"
      ],
      "metadata": {
        "id": "ul-kvjbe5k8H",
        "colab": {
          "base_uri": "https://localhost:8080/",
          "height": 737
        },
        "outputId": "a9dea5b8-3256-4920-cf1e-9b4df62a5da7"
      },
      "execution_count": null,
      "outputs": [
        {
          "output_type": "execute_result",
          "data": {
            "text/plain": [
              "<Axes: xlabel='notRepairedDamage', ylabel='price'>"
            ]
          },
          "metadata": {},
          "execution_count": 21
        },
        {
          "output_type": "display_data",
          "data": {
            "text/plain": [
              "<Figure size 1440x864 with 1 Axes>"
            ],
            "image/png": "[encoded data removed]"
          },
          "metadata": {}
        }
      ]
    },
    {
      "cell_type": "code",
      "source": [
        "data['log_price'] = np.log1p(data['price'])"
      ],
      "metadata": {
        "id": "f5o787CABVFK"
      },
      "execution_count": null,
      "outputs": []
    },
    {
      "cell_type": "code",
      "source": [
        "data = data.drop('price', axis = 1)\n",
        "data"
      ],
      "metadata": {
        "id": "LsYxFeZrBhif",
        "colab": {
          "base_uri": "https://localhost:8080/",
          "height": 423
        },
        "outputId": "dda5b15d-0285-471d-b5bc-62a653b46614"
      },
      "execution_count": null,
      "outputs": [
        {
          "output_type": "execute_result",
          "data": {
            "text/plain": [
              "             brand        model vehicleType    gearbox fuelType  \\\n",
              "0       volkswagen         golf  kleinwagen    manuell   benzin   \n",
              "1            skoda        fabia  kleinwagen    manuell   diesel   \n",
              "2              bmw          3er   limousine    manuell   benzin   \n",
              "3          peugeot      2_reihe      cabrio    manuell   benzin   \n",
              "4            mazda      3_reihe   limousine    manuell   benzin   \n",
              "...            ...          ...         ...        ...      ...   \n",
              "241185  volkswagen         golf   limousine    manuell   diesel   \n",
              "241186        seat         leon   limousine    manuell   benzin   \n",
              "241187       smart       fortwo      cabrio  automatik   benzin   \n",
              "241188  volkswagen  transporter         bus    manuell   diesel   \n",
              "241189         bmw      m_reihe   limousine    manuell   benzin   \n",
              "\n",
              "       notRepairedDamage  powerPS  kilometer  autoAgeMonths  log_price  \n",
              "0                   nein       75     150000            177   7.313887  \n",
              "1                   nein       69      90000             93   8.188967  \n",
              "2                     ja      102     150000            246   6.478510  \n",
              "3                   nein      109     150000            140   7.696667  \n",
              "4                   nein      105     150000            136   7.601402  \n",
              "...                  ...      ...        ...            ...        ...  \n",
              "241185              nein      140     150000             69   8.974745  \n",
              "241186                ja      225     150000            142   8.071219  \n",
              "241187              nein      101     125000            192   7.090077  \n",
              "241188              nein      102     150000            241   9.127067  \n",
              "241189              nein      320      50000             31  10.274741  \n",
              "\n",
              "[241190 rows x 10 columns]"
            ],
            "text/html": [
              "\n",
              "  <div id=\"df-42ba49c1-6d5e-43fd-900e-b6133b8e3082\">\n",
              "    <div class=\"colab-df-container\">\n",
              "      <div>\n",
              "<style scoped>\n",
              "    .dataframe tbody tr th:only-of-type {\n",
              "        vertical-align: middle;\n",
              "    }\n",
              "\n",
              "    .dataframe tbody tr th {\n",
              "        vertical-align: top;\n",
              "    }\n",
              "\n",
              "    .dataframe thead th {\n",
              "        text-align: right;\n",
              "    }\n",
              "</style>\n",
              "<table border=\"1\" class=\"dataframe\">\n",
              "  <thead>\n",
              "    <tr style=\"text-align: right;\">\n",
              "      <th></th>\n",
              "      <th>brand</th>\n",
              "      <th>model</th>\n",
              "      <th>vehicleType</th>\n",
              "      <th>gearbox</th>\n",
              "      <th>fuelType</th>\n",
              "      <th>notRepairedDamage</th>\n",
              "      <th>powerPS</th>\n",
              "      <th>kilometer</th>\n",
              "      <th>autoAgeMonths</th>\n",
              "      <th>log_price</th>\n",
              "    </tr>\n",
              "  </thead>\n",
              "  <tbody>\n",
              "    <tr>\n",
              "      <th>0</th>\n",
              "      <td>volkswagen</td>\n",
              "      <td>golf</td>\n",
              "      <td>kleinwagen</td>\n",
              "      <td>manuell</td>\n",
              "      <td>benzin</td>\n",
              "      <td>nein</td>\n",
              "      <td>75</td>\n",
              "      <td>150000</td>\n",
              "      <td>177</td>\n",
              "      <td>7.313887</td>\n",
              "    </tr>\n",
              "    <tr>\n",
              "      <th>1</th>\n",
              "      <td>skoda</td>\n",
              "      <td>fabia</td>\n",
              "      <td>kleinwagen</td>\n",
              "      <td>manuell</td>\n",
              "      <td>diesel</td>\n",
              "      <td>nein</td>\n",
              "      <td>69</td>\n",
              "      <td>90000</td>\n",
              "      <td>93</td>\n",
              "      <td>8.188967</td>\n",
              "    </tr>\n",
              "    <tr>\n",
              "      <th>2</th>\n",
              "      <td>bmw</td>\n",
              "      <td>3er</td>\n",
              "      <td>limousine</td>\n",
              "      <td>manuell</td>\n",
              "      <td>benzin</td>\n",
              "      <td>ja</td>\n",
              "      <td>102</td>\n",
              "      <td>150000</td>\n",
              "      <td>246</td>\n",
              "      <td>6.478510</td>\n",
              "    </tr>\n",
              "    <tr>\n",
              "      <th>3</th>\n",
              "      <td>peugeot</td>\n",
              "      <td>2_reihe</td>\n",
              "      <td>cabrio</td>\n",
              "      <td>manuell</td>\n",
              "      <td>benzin</td>\n",
              "      <td>nein</td>\n",
              "      <td>109</td>\n",
              "      <td>150000</td>\n",
              "      <td>140</td>\n",
              "      <td>7.696667</td>\n",
              "    </tr>\n",
              "    <tr>\n",
              "      <th>4</th>\n",
              "      <td>mazda</td>\n",
              "      <td>3_reihe</td>\n",
              "      <td>limousine</td>\n",
              "      <td>manuell</td>\n",
              "      <td>benzin</td>\n",
              "      <td>nein</td>\n",
              "      <td>105</td>\n",
              "      <td>150000</td>\n",
              "      <td>136</td>\n",
              "      <td>7.601402</td>\n",
              "    </tr>\n",
              "    <tr>\n",
              "      <th>...</th>\n",
              "      <td>...</td>\n",
              "      <td>...</td>\n",
              "      <td>...</td>\n",
              "      <td>...</td>\n",
              "      <td>...</td>\n",
              "      <td>...</td>\n",
              "      <td>...</td>\n",
              "      <td>...</td>\n",
              "      <td>...</td>\n",
              "      <td>...</td>\n",
              "    </tr>\n",
              "    <tr>\n",
              "      <th>241185</th>\n",
              "      <td>volkswagen</td>\n",
              "      <td>golf</td>\n",
              "      <td>limousine</td>\n",
              "      <td>manuell</td>\n",
              "      <td>diesel</td>\n",
              "      <td>nein</td>\n",
              "      <td>140</td>\n",
              "      <td>150000</td>\n",
              "      <td>69</td>\n",
              "      <td>8.974745</td>\n",
              "    </tr>\n",
              "    <tr>\n",
              "      <th>241186</th>\n",
              "      <td>seat</td>\n",
              "      <td>leon</td>\n",
              "      <td>limousine</td>\n",
              "      <td>manuell</td>\n",
              "      <td>benzin</td>\n",
              "      <td>ja</td>\n",
              "      <td>225</td>\n",
              "      <td>150000</td>\n",
              "      <td>142</td>\n",
              "      <td>8.071219</td>\n",
              "    </tr>\n",
              "    <tr>\n",
              "      <th>241187</th>\n",
              "      <td>smart</td>\n",
              "      <td>fortwo</td>\n",
              "      <td>cabrio</td>\n",
              "      <td>automatik</td>\n",
              "      <td>benzin</td>\n",
              "      <td>nein</td>\n",
              "      <td>101</td>\n",
              "      <td>125000</td>\n",
              "      <td>192</td>\n",
              "      <td>7.090077</td>\n",
              "    </tr>\n",
              "    <tr>\n",
              "      <th>241188</th>\n",
              "      <td>volkswagen</td>\n",
              "      <td>transporter</td>\n",
              "      <td>bus</td>\n",
              "      <td>manuell</td>\n",
              "      <td>diesel</td>\n",
              "      <td>nein</td>\n",
              "      <td>102</td>\n",
              "      <td>150000</td>\n",
              "      <td>241</td>\n",
              "      <td>9.127067</td>\n",
              "    </tr>\n",
              "    <tr>\n",
              "      <th>241189</th>\n",
              "      <td>bmw</td>\n",
              "      <td>m_reihe</td>\n",
              "      <td>limousine</td>\n",
              "      <td>manuell</td>\n",
              "      <td>benzin</td>\n",
              "      <td>nein</td>\n",
              "      <td>320</td>\n",
              "      <td>50000</td>\n",
              "      <td>31</td>\n",
              "      <td>10.274741</td>\n",
              "    </tr>\n",
              "  </tbody>\n",
              "</table>\n",
              "<p>241190 rows × 10 columns</p>\n",
              "</div>\n",
              "      <button class=\"colab-df-convert\" onclick=\"convertToInteractive('df-42ba49c1-6d5e-43fd-900e-b6133b8e3082')\"\n",
              "              title=\"Convert this dataframe to an interactive table.\"\n",
              "              style=\"display:none;\">\n",
              "        \n",
              "  <svg xmlns=\"http://www.w3.org/2000/svg\" height=\"24px\"viewBox=\"0 0 24 24\"\n",
              "       width=\"24px\">\n",
              "    <path d=\"M0 0h24v24H0V0z\" fill=\"none\"/>\n",
              "    <path d=\"M18.56 5.44l.94 2.06.94-2.06 2.06-.94-2.06-.94-.94-2.06-.94 2.06-2.06.94zm-11 1L8.5 8.5l.94-2.06 2.06-.94-2.06-.94L8.5 2.5l-.94 2.06-2.06.94zm10 10l.94 2.06.94-2.06 2.06-.94-2.06-.94-.94-2.06-.94 2.06-2.06.94z\"/><path d=\"M17.41 7.96l-1.37-1.37c-.4-.4-.92-.59-1.43-.59-.52 0-1.04.2-1.43.59L10.3 9.45l-7.72 7.72c-.78.78-.78 2.05 0 2.83L4 21.41c.39.39.9.59 1.41.59.51 0 1.02-.2 1.41-.59l7.78-7.78 2.81-2.81c.8-.78.8-2.07 0-2.86zM5.41 20L4 18.59l7.72-7.72 1.47 1.35L5.41 20z\"/>\n",
              "  </svg>\n",
              "      </button>\n",
              "      \n",
              "  <style>\n",
              "    .colab-df-container {\n",
              "      display:flex;\n",
              "      flex-wrap:wrap;\n",
              "      gap: 12px;\n",
              "    }\n",
              "\n",
              "    .colab-df-convert {\n",
              "      background-color: #E8F0FE;\n",
              "      border: none;\n",
              "      border-radius: 50%;\n",
              "      cursor: pointer;\n",
              "      display: none;\n",
              "      fill: #1967D2;\n",
              "      height: 32px;\n",
              "      padding: 0 0 0 0;\n",
              "      width: 32px;\n",
              "    }\n",
              "\n",
              "    .colab-df-convert:hover {\n",
              "      background-color: #E2EBFA;\n",
              "      box-shadow: 0px 1px 2px rgba(60, 64, 67, 0.3), 0px 1px 3px 1px rgba(60, 64, 67, 0.15);\n",
              "      fill: #174EA6;\n",
              "    }\n",
              "\n",
              "    [theme=dark] .colab-df-convert {\n",
              "      background-color: #3B4455;\n",
              "      fill: #D2E3FC;\n",
              "    }\n",
              "\n",
              "    [theme=dark] .colab-df-convert:hover {\n",
              "      background-color: #434B5C;\n",
              "      box-shadow: 0px 1px 3px 1px rgba(0, 0, 0, 0.15);\n",
              "      filter: drop-shadow(0px 1px 2px rgba(0, 0, 0, 0.3));\n",
              "      fill: #FFFFFF;\n",
              "    }\n",
              "  </style>\n",
              "\n",
              "      <script>\n",
              "        const buttonEl =\n",
              "          document.querySelector('#df-42ba49c1-6d5e-43fd-900e-b6133b8e3082 button.colab-df-convert');\n",
              "        buttonEl.style.display =\n",
              "          google.colab.kernel.accessAllowed ? 'block' : 'none';\n",
              "\n",
              "        async function convertToInteractive(key) {\n",
              "          const element = document.querySelector('#df-42ba49c1-6d5e-43fd-900e-b6133b8e3082');\n",
              "          const dataTable =\n",
              "            await google.colab.kernel.invokeFunction('convertToInteractive',\n",
              "                                                     [key], {});\n",
              "          if (!dataTable) return;\n",
              "\n",
              "          const docLinkHtml = 'Like what you see? Visit the ' +\n",
              "            '<a target=\"_blank\" href=https://colab.research.google.com/notebooks/data_table.ipynb>data table notebook</a>'\n",
              "            + ' to learn more about interactive tables.';\n",
              "          element.innerHTML = '';\n",
              "          dataTable['output_type'] = 'display_data';\n",
              "          await google.colab.output.renderOutput(dataTable, element);\n",
              "          const docLink = document.createElement('div');\n",
              "          docLink.innerHTML = docLinkHtml;\n",
              "          element.appendChild(docLink);\n",
              "        }\n",
              "      </script>\n",
              "    </div>\n",
              "  </div>\n",
              "  "
            ]
          },
          "metadata": {},
          "execution_count": 23
        }
      ]
    },
    {
      "cell_type": "code",
      "source": [
        "data['is_premium'] = data['brand'].isin(['porsche', 'jaguar', 'bmw', 'mercedes_benz', 'mini', 'audi', 'land_rover', 'jeep'])"
      ],
      "metadata": {
        "id": "KnsS-DbfClvA"
      },
      "execution_count": null,
      "outputs": []
    },
    {
      "cell_type": "code",
      "source": [
        "data = data.drop('model', axis = 1)"
      ],
      "metadata": {
        "id": "zL8jAzkPDfd6"
      },
      "execution_count": null,
      "outputs": []
    },
    {
      "cell_type": "code",
      "source": [
        "sns.boxplot(data=data, x = 'is_premium', y = 'log_price')"
      ],
      "metadata": {
        "id": "jXODJgIxDwtA",
        "colab": {
          "base_uri": "https://localhost:8080/",
          "height": 738
        },
        "outputId": "c1a8642d-9991-4566-b3f3-c2ef56f99bb4"
      },
      "execution_count": null,
      "outputs": [
        {
          "output_type": "execute_result",
          "data": {
            "text/plain": [
              "<Axes: xlabel='is_premium', ylabel='log_price'>"
            ]
          },
          "metadata": {},
          "execution_count": 26
        },
        {
          "output_type": "display_data",
          "data": {
            "text/plain": [
              "<Figure size 1440x864 with 1 Axes>"
            ],
            "image/png": "[encoded data removed]"
          },
          "metadata": {}
        }
      ]
    },
    {
      "cell_type": "code",
      "source": [
        "data.log_price.max()"
      ],
      "metadata": {
        "id": "ap0UXY7mE1BV",
        "colab": {
          "base_uri": "https://localhost:8080/"
        },
        "outputId": "f7da4e84-a4d7-415f-c34f-9b6f14eca689"
      },
      "execution_count": null,
      "outputs": [
        {
          "output_type": "execute_result",
          "data": {
            "text/plain": [
              "11.512925464970229"
            ]
          },
          "metadata": {},
          "execution_count": 27
        }
      ]
    },
    {
      "cell_type": "code",
      "source": [
        "data.log_price.min()"
      ],
      "metadata": {
        "id": "IYq-wUElWYuI",
        "colab": {
          "base_uri": "https://localhost:8080/"
        },
        "outputId": "73348778-bc4f-4c98-d368-89829e642f35"
      },
      "execution_count": null,
      "outputs": [
        {
          "output_type": "execute_result",
          "data": {
            "text/plain": [
              "0.6931471805599453"
            ]
          },
          "metadata": {},
          "execution_count": 28
        }
      ]
    },
    {
      "cell_type": "code",
      "source": [
        "data = data[(data['log_price'] < np.percentile(data['log_price'], 1)) == False]\n",
        "data[(data['log_price'] > np.percentile(data['log_price'], 99.5)) == False]\n",
        "data.shape"
      ],
      "metadata": {
        "id": "A6l47CCHWcD5",
        "colab": {
          "base_uri": "https://localhost:8080/"
        },
        "outputId": "548a895f-1667-4062-9b2d-997fa3ba1251"
      },
      "execution_count": null,
      "outputs": [
        {
          "output_type": "execute_result",
          "data": {
            "text/plain": [
              "(239060, 10)"
            ]
          },
          "metadata": {},
          "execution_count": 29
        }
      ]
    },
    {
      "cell_type": "code",
      "source": [
        "#sns.regplot(x=\"powerPS\", y=\"log_price\", line_kws={'color': 'red'}, data=data)"
      ],
      "metadata": {
        "id": "BXJ1-9dnZ31U"
      },
      "execution_count": null,
      "outputs": []
    },
    {
      "cell_type": "code",
      "execution_count": null,
      "metadata": {
        "pycharm": {
          "name": "#%%\n"
        },
        "id": "rqybwfZKl8Yw"
      },
      "outputs": [],
      "source": [
        "categorical = ['brand', 'vehicleType', 'gearbox', 'fuelType', 'notRepairedDamage']\n",
        "numeric = ['powerPS', 'kilometer', 'autoAgeMonths']\n"
      ]
    },
    {
      "cell_type": "markdown",
      "source": [
        "Заметим, что логарифм цены имеет распредление, схожее с нормальным."
      ],
      "metadata": {
        "id": "MYo8TEYnQ7B3"
      }
    },
    {
      "cell_type": "code",
      "execution_count": null,
      "metadata": {
        "pycharm": {
          "name": "#%%\n"
        },
        "id": "DuIciNR5l8Yw"
      },
      "outputs": [],
      "source": [
        "data['bias'] = 1\n",
        "other = ['is_premium', 'bias']\n",
        "\n",
        "x = data[categorical + numeric + other]\n",
        "y = data['log_price']"
      ]
    },
    {
      "cell_type": "code",
      "execution_count": null,
      "metadata": {
        "pycharm": {
          "name": "#%%\n"
        },
        "id": "x36GQOAml8Yx"
      },
      "outputs": [],
      "source": [
        "from sklearn.compose import ColumnTransformer\n",
        "from sklearn.preprocessing import OneHotEncoder\n",
        "from sklearn.preprocessing import StandardScaler\n",
        "\n",
        "\n",
        "column_transformer = ColumnTransformer([\n",
        "    ('ohe', OneHotEncoder(handle_unknown='ignore'), categorical),\n",
        "    ('scaling', StandardScaler(), numeric),\n",
        "    ('other',  'passthrough', other)\n",
        "])\n",
        "\n",
        "x = column_transformer.fit_transform(x)"
      ]
    },
    {
      "cell_type": "code",
      "execution_count": null,
      "metadata": {
        "pycharm": {
          "name": "#%%\n"
        },
        "id": "O04oKsabl8Yy"
      },
      "outputs": [],
      "source": [
        "from sklearn.model_selection import train_test_split\n",
        "\n",
        "X_train, X_test, y_train, y_test = train_test_split(x, y, test_size=0.1, random_state = 10)\n",
        "X_train, X_val, y_train, y_val = train_test_split(X_train, y_train, test_size = 0.111, random_state=10)"
      ]
    },
    {
      "cell_type": "code",
      "source": [
        "y_train = y_train.values"
      ],
      "metadata": {
        "id": "EJePcnoRHZMT"
      },
      "execution_count": null,
      "outputs": []
    },
    {
      "cell_type": "code",
      "source": [
        "y_test = y_test.values\n",
        "y_val = y_val.values"
      ],
      "metadata": {
        "id": "AJrnCtodcoG7"
      },
      "execution_count": null,
      "outputs": []
    },
    {
      "cell_type": "markdown",
      "metadata": {
        "pycharm": {
          "name": "#%% md\n"
        },
        "id": "I_gWWCfwl8Yy"
      },
      "source": [
        "## Сравнение методов градиентного спуска"
      ]
    },
    {
      "cell_type": "markdown",
      "metadata": {
        "pycharm": {
          "name": "#%% md\n"
        },
        "id": "3PMxOT8gl8Yz"
      },
      "source": [
        "### Подбор оптимальной длины шага\n",
        "\n",
        "Подберём по валидационной выборке наилучшую длину шага $\\lambda$ для каждого метода с точки зрения ошибки. Для этого сделаем перебор по логарифмической сетке. Для каждого метода посчитаем ошибку на обучающей и тестовой выборках, посчитаем качество по метрике $R^2$, сохраним количество итераций до сходимости."
      ]
    },
    {
      "cell_type": "code",
      "source": [
        "X_train = X_train.toarray()\n",
        "X_test = X_test.toarray()\n",
        "X_val = X_val.toarray()"
      ],
      "metadata": {
        "id": "HXP4Pdo_vXN5"
      },
      "execution_count": null,
      "outputs": []
    },
    {
      "cell_type": "code",
      "source": [
        "data"
      ],
      "metadata": {
        "id": "Onyoin2yisVb",
        "colab": {
          "base_uri": "https://localhost:8080/",
          "height": 423
        },
        "outputId": "46e71ec1-b926-4cdf-d319-12e983585530"
      },
      "execution_count": null,
      "outputs": [
        {
          "output_type": "execute_result",
          "data": {
            "text/plain": [
              "             brand vehicleType    gearbox fuelType notRepairedDamage  powerPS  \\\n",
              "0       volkswagen  kleinwagen    manuell   benzin              nein       75   \n",
              "1            skoda  kleinwagen    manuell   diesel              nein       69   \n",
              "2              bmw   limousine    manuell   benzin                ja      102   \n",
              "3          peugeot      cabrio    manuell   benzin              nein      109   \n",
              "4            mazda   limousine    manuell   benzin              nein      105   \n",
              "...            ...         ...        ...      ...               ...      ...   \n",
              "241185  volkswagen   limousine    manuell   diesel              nein      140   \n",
              "241186        seat   limousine    manuell   benzin                ja      225   \n",
              "241187       smart      cabrio  automatik   benzin              nein      101   \n",
              "241188  volkswagen         bus    manuell   diesel              nein      102   \n",
              "241189         bmw   limousine    manuell   benzin              nein      320   \n",
              "\n",
              "        kilometer  autoAgeMonths  log_price  is_premium  bias  \n",
              "0          150000            177   7.313887       False     1  \n",
              "1           90000             93   8.188967       False     1  \n",
              "2          150000            246   6.478510        True     1  \n",
              "3          150000            140   7.696667       False     1  \n",
              "4          150000            136   7.601402       False     1  \n",
              "...           ...            ...        ...         ...   ...  \n",
              "241185     150000             69   8.974745       False     1  \n",
              "241186     150000            142   8.071219       False     1  \n",
              "241187     125000            192   7.090077       False     1  \n",
              "241188     150000            241   9.127067       False     1  \n",
              "241189      50000             31  10.274741        True     1  \n",
              "\n",
              "[239060 rows x 11 columns]"
            ],
            "text/html": [
              "\n",
              "  <div id=\"df-578109be-9bd2-4ba8-b12b-6304ea6d1469\">\n",
              "    <div class=\"colab-df-container\">\n",
              "      <div>\n",
              "<style scoped>\n",
              "    .dataframe tbody tr th:only-of-type {\n",
              "        vertical-align: middle;\n",
              "    }\n",
              "\n",
              "    .dataframe tbody tr th {\n",
              "        vertical-align: top;\n",
              "    }\n",
              "\n",
              "    .dataframe thead th {\n",
              "        text-align: right;\n",
              "    }\n",
              "</style>\n",
              "<table border=\"1\" class=\"dataframe\">\n",
              "  <thead>\n",
              "    <tr style=\"text-align: right;\">\n",
              "      <th></th>\n",
              "      <th>brand</th>\n",
              "      <th>vehicleType</th>\n",
              "      <th>gearbox</th>\n",
              "      <th>fuelType</th>\n",
              "      <th>notRepairedDamage</th>\n",
              "      <th>powerPS</th>\n",
              "      <th>kilometer</th>\n",
              "      <th>autoAgeMonths</th>\n",
              "      <th>log_price</th>\n",
              "      <th>is_premium</th>\n",
              "      <th>bias</th>\n",
              "    </tr>\n",
              "  </thead>\n",
              "  <tbody>\n",
              "    <tr>\n",
              "      <th>0</th>\n",
              "      <td>volkswagen</td>\n",
              "      <td>kleinwagen</td>\n",
              "      <td>manuell</td>\n",
              "      <td>benzin</td>\n",
              "      <td>nein</td>\n",
              "      <td>75</td>\n",
              "      <td>150000</td>\n",
              "      <td>177</td>\n",
              "      <td>7.313887</td>\n",
              "      <td>False</td>\n",
              "      <td>1</td>\n",
              "    </tr>\n",
              "    <tr>\n",
              "      <th>1</th>\n",
              "      <td>skoda</td>\n",
              "      <td>kleinwagen</td>\n",
              "      <td>manuell</td>\n",
              "      <td>diesel</td>\n",
              "      <td>nein</td>\n",
              "      <td>69</td>\n",
              "      <td>90000</td>\n",
              "      <td>93</td>\n",
              "      <td>8.188967</td>\n",
              "      <td>False</td>\n",
              "      <td>1</td>\n",
              "    </tr>\n",
              "    <tr>\n",
              "      <th>2</th>\n",
              "      <td>bmw</td>\n",
              "      <td>limousine</td>\n",
              "      <td>manuell</td>\n",
              "      <td>benzin</td>\n",
              "      <td>ja</td>\n",
              "      <td>102</td>\n",
              "      <td>150000</td>\n",
              "      <td>246</td>\n",
              "      <td>6.478510</td>\n",
              "      <td>True</td>\n",
              "      <td>1</td>\n",
              "    </tr>\n",
              "    <tr>\n",
              "      <th>3</th>\n",
              "      <td>peugeot</td>\n",
              "      <td>cabrio</td>\n",
              "      <td>manuell</td>\n",
              "      <td>benzin</td>\n",
              "      <td>nein</td>\n",
              "      <td>109</td>\n",
              "      <td>150000</td>\n",
              "      <td>140</td>\n",
              "      <td>7.696667</td>\n",
              "      <td>False</td>\n",
              "      <td>1</td>\n",
              "    </tr>\n",
              "    <tr>\n",
              "      <th>4</th>\n",
              "      <td>mazda</td>\n",
              "      <td>limousine</td>\n",
              "      <td>manuell</td>\n",
              "      <td>benzin</td>\n",
              "      <td>nein</td>\n",
              "      <td>105</td>\n",
              "      <td>150000</td>\n",
              "      <td>136</td>\n",
              "      <td>7.601402</td>\n",
              "      <td>False</td>\n",
              "      <td>1</td>\n",
              "    </tr>\n",
              "    <tr>\n",
              "      <th>...</th>\n",
              "      <td>...</td>\n",
              "      <td>...</td>\n",
              "      <td>...</td>\n",
              "      <td>...</td>\n",
              "      <td>...</td>\n",
              "      <td>...</td>\n",
              "      <td>...</td>\n",
              "      <td>...</td>\n",
              "      <td>...</td>\n",
              "      <td>...</td>\n",
              "      <td>...</td>\n",
              "    </tr>\n",
              "    <tr>\n",
              "      <th>241185</th>\n",
              "      <td>volkswagen</td>\n",
              "      <td>limousine</td>\n",
              "      <td>manuell</td>\n",
              "      <td>diesel</td>\n",
              "      <td>nein</td>\n",
              "      <td>140</td>\n",
              "      <td>150000</td>\n",
              "      <td>69</td>\n",
              "      <td>8.974745</td>\n",
              "      <td>False</td>\n",
              "      <td>1</td>\n",
              "    </tr>\n",
              "    <tr>\n",
              "      <th>241186</th>\n",
              "      <td>seat</td>\n",
              "      <td>limousine</td>\n",
              "      <td>manuell</td>\n",
              "      <td>benzin</td>\n",
              "      <td>ja</td>\n",
              "      <td>225</td>\n",
              "      <td>150000</td>\n",
              "      <td>142</td>\n",
              "      <td>8.071219</td>\n",
              "      <td>False</td>\n",
              "      <td>1</td>\n",
              "    </tr>\n",
              "    <tr>\n",
              "      <th>241187</th>\n",
              "      <td>smart</td>\n",
              "      <td>cabrio</td>\n",
              "      <td>automatik</td>\n",
              "      <td>benzin</td>\n",
              "      <td>nein</td>\n",
              "      <td>101</td>\n",
              "      <td>125000</td>\n",
              "      <td>192</td>\n",
              "      <td>7.090077</td>\n",
              "      <td>False</td>\n",
              "      <td>1</td>\n",
              "    </tr>\n",
              "    <tr>\n",
              "      <th>241188</th>\n",
              "      <td>volkswagen</td>\n",
              "      <td>bus</td>\n",
              "      <td>manuell</td>\n",
              "      <td>diesel</td>\n",
              "      <td>nein</td>\n",
              "      <td>102</td>\n",
              "      <td>150000</td>\n",
              "      <td>241</td>\n",
              "      <td>9.127067</td>\n",
              "      <td>False</td>\n",
              "      <td>1</td>\n",
              "    </tr>\n",
              "    <tr>\n",
              "      <th>241189</th>\n",
              "      <td>bmw</td>\n",
              "      <td>limousine</td>\n",
              "      <td>manuell</td>\n",
              "      <td>benzin</td>\n",
              "      <td>nein</td>\n",
              "      <td>320</td>\n",
              "      <td>50000</td>\n",
              "      <td>31</td>\n",
              "      <td>10.274741</td>\n",
              "      <td>True</td>\n",
              "      <td>1</td>\n",
              "    </tr>\n",
              "  </tbody>\n",
              "</table>\n",
              "<p>239060 rows × 11 columns</p>\n",
              "</div>\n",
              "      <button class=\"colab-df-convert\" onclick=\"convertToInteractive('df-578109be-9bd2-4ba8-b12b-6304ea6d1469')\"\n",
              "              title=\"Convert this dataframe to an interactive table.\"\n",
              "              style=\"display:none;\">\n",
              "        \n",
              "  <svg xmlns=\"http://www.w3.org/2000/svg\" height=\"24px\"viewBox=\"0 0 24 24\"\n",
              "       width=\"24px\">\n",
              "    <path d=\"M0 0h24v24H0V0z\" fill=\"none\"/>\n",
              "    <path d=\"M18.56 5.44l.94 2.06.94-2.06 2.06-.94-2.06-.94-.94-2.06-.94 2.06-2.06.94zm-11 1L8.5 8.5l.94-2.06 2.06-.94-2.06-.94L8.5 2.5l-.94 2.06-2.06.94zm10 10l.94 2.06.94-2.06 2.06-.94-2.06-.94-.94-2.06-.94 2.06-2.06.94z\"/><path d=\"M17.41 7.96l-1.37-1.37c-.4-.4-.92-.59-1.43-.59-.52 0-1.04.2-1.43.59L10.3 9.45l-7.72 7.72c-.78.78-.78 2.05 0 2.83L4 21.41c.39.39.9.59 1.41.59.51 0 1.02-.2 1.41-.59l7.78-7.78 2.81-2.81c.8-.78.8-2.07 0-2.86zM5.41 20L4 18.59l7.72-7.72 1.47 1.35L5.41 20z\"/>\n",
              "  </svg>\n",
              "      </button>\n",
              "      \n",
              "  <style>\n",
              "    .colab-df-container {\n",
              "      display:flex;\n",
              "      flex-wrap:wrap;\n",
              "      gap: 12px;\n",
              "    }\n",
              "\n",
              "    .colab-df-convert {\n",
              "      background-color: #E8F0FE;\n",
              "      border: none;\n",
              "      border-radius: 50%;\n",
              "      cursor: pointer;\n",
              "      display: none;\n",
              "      fill: #1967D2;\n",
              "      height: 32px;\n",
              "      padding: 0 0 0 0;\n",
              "      width: 32px;\n",
              "    }\n",
              "\n",
              "    .colab-df-convert:hover {\n",
              "      background-color: #E2EBFA;\n",
              "      box-shadow: 0px 1px 2px rgba(60, 64, 67, 0.3), 0px 1px 3px 1px rgba(60, 64, 67, 0.15);\n",
              "      fill: #174EA6;\n",
              "    }\n",
              "\n",
              "    [theme=dark] .colab-df-convert {\n",
              "      background-color: #3B4455;\n",
              "      fill: #D2E3FC;\n",
              "    }\n",
              "\n",
              "    [theme=dark] .colab-df-convert:hover {\n",
              "      background-color: #434B5C;\n",
              "      box-shadow: 0px 1px 3px 1px rgba(0, 0, 0, 0.15);\n",
              "      filter: drop-shadow(0px 1px 2px rgba(0, 0, 0, 0.3));\n",
              "      fill: #FFFFFF;\n",
              "    }\n",
              "  </style>\n",
              "\n",
              "      <script>\n",
              "        const buttonEl =\n",
              "          document.querySelector('#df-578109be-9bd2-4ba8-b12b-6304ea6d1469 button.colab-df-convert');\n",
              "        buttonEl.style.display =\n",
              "          google.colab.kernel.accessAllowed ? 'block' : 'none';\n",
              "\n",
              "        async function convertToInteractive(key) {\n",
              "          const element = document.querySelector('#df-578109be-9bd2-4ba8-b12b-6304ea6d1469');\n",
              "          const dataTable =\n",
              "            await google.colab.kernel.invokeFunction('convertToInteractive',\n",
              "                                                     [key], {});\n",
              "          if (!dataTable) return;\n",
              "\n",
              "          const docLinkHtml = 'Like what you see? Visit the ' +\n",
              "            '<a target=\"_blank\" href=https://colab.research.google.com/notebooks/data_table.ipynb>data table notebook</a>'\n",
              "            + ' to learn more about interactive tables.';\n",
              "          element.innerHTML = '';\n",
              "          dataTable['output_type'] = 'display_data';\n",
              "          await google.colab.output.renderOutput(dataTable, element);\n",
              "          const docLink = document.createElement('div');\n",
              "          docLink.innerHTML = docLinkHtml;\n",
              "          element.appendChild(docLink);\n",
              "        }\n",
              "      </script>\n",
              "    </div>\n",
              "  </div>\n",
              "  "
            ]
          },
          "metadata": {},
          "execution_count": 39
        }
      ]
    },
    {
      "cell_type": "code",
      "execution_count": null,
      "metadata": {
        "pycharm": {
          "name": "#%%\n"
        },
        "id": "T8L-7gFDl8Y0",
        "colab": {
          "base_uri": "https://localhost:8080/",
          "height": 175
        },
        "outputId": "65a6d4fc-10f9-4dc1-af33-69affe5c9181"
      },
      "outputs": [
        {
          "output_type": "execute_result",
          "data": {
            "text/plain": [
              "     Gradient  mse_train  mse_test  r2_train   r2_test  max_iter    lambda\n",
              "0        full   0.314605  0.317051  0.735399  0.731979        39  1.122018\n",
              "1  stochastic   0.323619  0.328227  0.727818  0.722532       171  0.535732\n",
              "2    momentum   0.293219  0.295243  0.753386  0.750415       134  1.122018\n",
              "3        adam   0.282489  0.285281  0.762411  0.758836        78  0.535732"
            ],
            "text/html": [
              "\n",
              "  <div id=\"df-b09c9174-6abd-47b8-bf97-c497a9957e47\">\n",
              "    <div class=\"colab-df-container\">\n",
              "      <div>\n",
              "<style scoped>\n",
              "    .dataframe tbody tr th:only-of-type {\n",
              "        vertical-align: middle;\n",
              "    }\n",
              "\n",
              "    .dataframe tbody tr th {\n",
              "        vertical-align: top;\n",
              "    }\n",
              "\n",
              "    .dataframe thead th {\n",
              "        text-align: right;\n",
              "    }\n",
              "</style>\n",
              "<table border=\"1\" class=\"dataframe\">\n",
              "  <thead>\n",
              "    <tr style=\"text-align: right;\">\n",
              "      <th></th>\n",
              "      <th>Gradient</th>\n",
              "      <th>mse_train</th>\n",
              "      <th>mse_test</th>\n",
              "      <th>r2_train</th>\n",
              "      <th>r2_test</th>\n",
              "      <th>max_iter</th>\n",
              "      <th>lambda</th>\n",
              "    </tr>\n",
              "  </thead>\n",
              "  <tbody>\n",
              "    <tr>\n",
              "      <th>0</th>\n",
              "      <td>full</td>\n",
              "      <td>0.314605</td>\n",
              "      <td>0.317051</td>\n",
              "      <td>0.735399</td>\n",
              "      <td>0.731979</td>\n",
              "      <td>39</td>\n",
              "      <td>1.122018</td>\n",
              "    </tr>\n",
              "    <tr>\n",
              "      <th>1</th>\n",
              "      <td>stochastic</td>\n",
              "      <td>0.323619</td>\n",
              "      <td>0.328227</td>\n",
              "      <td>0.727818</td>\n",
              "      <td>0.722532</td>\n",
              "      <td>171</td>\n",
              "      <td>0.535732</td>\n",
              "    </tr>\n",
              "    <tr>\n",
              "      <th>2</th>\n",
              "      <td>momentum</td>\n",
              "      <td>0.293219</td>\n",
              "      <td>0.295243</td>\n",
              "      <td>0.753386</td>\n",
              "      <td>0.750415</td>\n",
              "      <td>134</td>\n",
              "      <td>1.122018</td>\n",
              "    </tr>\n",
              "    <tr>\n",
              "      <th>3</th>\n",
              "      <td>adam</td>\n",
              "      <td>0.282489</td>\n",
              "      <td>0.285281</td>\n",
              "      <td>0.762411</td>\n",
              "      <td>0.758836</td>\n",
              "      <td>78</td>\n",
              "      <td>0.535732</td>\n",
              "    </tr>\n",
              "  </tbody>\n",
              "</table>\n",
              "</div>\n",
              "      <button class=\"colab-df-convert\" onclick=\"convertToInteractive('df-b09c9174-6abd-47b8-bf97-c497a9957e47')\"\n",
              "              title=\"Convert this dataframe to an interactive table.\"\n",
              "              style=\"display:none;\">\n",
              "        \n",
              "  <svg xmlns=\"http://www.w3.org/2000/svg\" height=\"24px\"viewBox=\"0 0 24 24\"\n",
              "       width=\"24px\">\n",
              "    <path d=\"M0 0h24v24H0V0z\" fill=\"none\"/>\n",
              "    <path d=\"M18.56 5.44l.94 2.06.94-2.06 2.06-.94-2.06-.94-.94-2.06-.94 2.06-2.06.94zm-11 1L8.5 8.5l.94-2.06 2.06-.94-2.06-.94L8.5 2.5l-.94 2.06-2.06.94zm10 10l.94 2.06.94-2.06 2.06-.94-2.06-.94-.94-2.06-.94 2.06-2.06.94z\"/><path d=\"M17.41 7.96l-1.37-1.37c-.4-.4-.92-.59-1.43-.59-.52 0-1.04.2-1.43.59L10.3 9.45l-7.72 7.72c-.78.78-.78 2.05 0 2.83L4 21.41c.39.39.9.59 1.41.59.51 0 1.02-.2 1.41-.59l7.78-7.78 2.81-2.81c.8-.78.8-2.07 0-2.86zM5.41 20L4 18.59l7.72-7.72 1.47 1.35L5.41 20z\"/>\n",
              "  </svg>\n",
              "      </button>\n",
              "      \n",
              "  <style>\n",
              "    .colab-df-container {\n",
              "      display:flex;\n",
              "      flex-wrap:wrap;\n",
              "      gap: 12px;\n",
              "    }\n",
              "\n",
              "    .colab-df-convert {\n",
              "      background-color: #E8F0FE;\n",
              "      border: none;\n",
              "      border-radius: 50%;\n",
              "      cursor: pointer;\n",
              "      display: none;\n",
              "      fill: #1967D2;\n",
              "      height: 32px;\n",
              "      padding: 0 0 0 0;\n",
              "      width: 32px;\n",
              "    }\n",
              "\n",
              "    .colab-df-convert:hover {\n",
              "      background-color: #E2EBFA;\n",
              "      box-shadow: 0px 1px 2px rgba(60, 64, 67, 0.3), 0px 1px 3px 1px rgba(60, 64, 67, 0.15);\n",
              "      fill: #174EA6;\n",
              "    }\n",
              "\n",
              "    [theme=dark] .colab-df-convert {\n",
              "      background-color: #3B4455;\n",
              "      fill: #D2E3FC;\n",
              "    }\n",
              "\n",
              "    [theme=dark] .colab-df-convert:hover {\n",
              "      background-color: #434B5C;\n",
              "      box-shadow: 0px 1px 3px 1px rgba(0, 0, 0, 0.15);\n",
              "      filter: drop-shadow(0px 1px 2px rgba(0, 0, 0, 0.3));\n",
              "      fill: #FFFFFF;\n",
              "    }\n",
              "  </style>\n",
              "\n",
              "      <script>\n",
              "        const buttonEl =\n",
              "          document.querySelector('#df-b09c9174-6abd-47b8-bf97-c497a9957e47 button.colab-df-convert');\n",
              "        buttonEl.style.display =\n",
              "          google.colab.kernel.accessAllowed ? 'block' : 'none';\n",
              "\n",
              "        async function convertToInteractive(key) {\n",
              "          const element = document.querySelector('#df-b09c9174-6abd-47b8-bf97-c497a9957e47');\n",
              "          const dataTable =\n",
              "            await google.colab.kernel.invokeFunction('convertToInteractive',\n",
              "                                                     [key], {});\n",
              "          if (!dataTable) return;\n",
              "\n",
              "          const docLinkHtml = 'Like what you see? Visit the ' +\n",
              "            '<a target=\"_blank\" href=https://colab.research.google.com/notebooks/data_table.ipynb>data table notebook</a>'\n",
              "            + ' to learn more about interactive tables.';\n",
              "          element.innerHTML = '';\n",
              "          dataTable['output_type'] = 'display_data';\n",
              "          await google.colab.output.renderOutput(dataTable, element);\n",
              "          const docLink = document.createElement('div');\n",
              "          docLink.innerHTML = docLinkHtml;\n",
              "          element.appendChild(docLink);\n",
              "        }\n",
              "      </script>\n",
              "    </div>\n",
              "  </div>\n",
              "  "
            ]
          },
          "metadata": {},
          "execution_count": 40
        }
      ],
      "source": [
        "from sklearn.metrics import mean_squared_error\n",
        "from sklearn.metrics import r2_score\n",
        "\n",
        "lambda_values = np.logspace(-3, 0.05, 20)\n",
        "dimension = x.shape[1]\n",
        "gradients = ['full', 'stochastic', 'momentum', 'adam']\n",
        "result = pd.DataFrame()\n",
        "descent_config = {\n",
        "    'descent_name': descent_name,\n",
        "    'kwargs': {\n",
        "        'dimension': dimension\n",
        "    }\n",
        "}\n",
        "best_lambda = {}\n",
        "for grad in gradients:\n",
        "  descent_config['descent_name'] = grad\n",
        "  lambda_list = []\n",
        "  mse_comp=[]\n",
        "  for lambd in lambda_values:\n",
        "    descent_config['kwargs']['lambda_'] = lambd\n",
        "    regression = LinearRegression(descent_config=descent_config)\n",
        "    regression.fit(X_train, y_train)\n",
        "    y_pred = regression.predict(X_val)\n",
        "    mse_comp.append(mean_squared_error(y_val, y_pred))\n",
        "    lambda_list.append(lambd)\n",
        "  best_lambda[grad] = lambda_list[np.argmin(mse_comp)]\n",
        "\n",
        "loss_history = {}\n",
        "for grad in gradients:\n",
        "  descent_config['descent_name'] = grad\n",
        "  descent_config['kwargs']['lambda_'] = best_lambda[grad]\n",
        "  regression = LinearRegression(descent_config=descent_config)\n",
        "  regression.fit(X_train, y_train)\n",
        "  y_test_pred = regression.predict(X_test)\n",
        "  y_train_pred = regression.predict(X_train)\n",
        "  mse_test = mean_squared_error(y_test_pred, y_test)\n",
        "  mse_train = mean_squared_error(y_train_pred, y_train)\n",
        "  r2_test = r2_score(y_test, y_test_pred)\n",
        "  r2_train = r2_score(y_train, y_train_pred)\n",
        "  max_iter = len(regression.loss_history)\n",
        "  loss_history[grad] = regression.loss_history\n",
        "  to_insert = {\n",
        "      'Gradient' : [grad],\n",
        "      'mse_train' : [mse_train],\n",
        "      'mse_test' : [mse_test],\n",
        "      'r2_train' : [r2_train],\n",
        "      'r2_test' : [r2_test],\n",
        "      'max_iter' : [max_iter],\n",
        "      'lambda' : [best_lambda[grad]]\n",
        "  }\n",
        "  result = pd.concat([result, pd.DataFrame(to_insert)], ignore_index = True)\n",
        "result"
      ]
    },
    {
      "cell_type": "markdown",
      "metadata": {
        "pycharm": {
          "name": "#%% md\n"
        },
        "id": "FkfYmNhJl8Y0"
      },
      "source": [
        "### Сравнение методов\n",
        "\n",
        "Построим график зависимости ошибки на обучающей выборке от номера итерации."
      ]
    },
    {
      "cell_type": "code",
      "execution_count": null,
      "metadata": {
        "pycharm": {
          "name": "#%%\n"
        },
        "id": "q-OgDyOFl8Y0",
        "colab": {
          "base_uri": "https://localhost:8080/",
          "height": 736
        },
        "outputId": "f3d3bb2e-97ac-4c85-cbdf-b29ef2acda8e"
      },
      "outputs": [
        {
          "output_type": "display_data",
          "data": {
            "text/plain": [
              "<Figure size 1440x864 with 1 Axes>"
            ],
            "image/png": "[encoded data removed]"
          },
          "metadata": {}
        }
      ],
      "source": [
        "for grad in gradients:\n",
        "  plt.plot(np.arange(0, len(loss_history[grad])), loss_history[grad], label = grad)\n",
        "plt.title('Зависимость ошибки от номера шага градиента')\n",
        "plt.xlabel('Номер шага')\n",
        "plt.ylabel('Ошибка')\n",
        "plt.legend(title = 'Gradient type')\n",
        "\n",
        "plt.ylim(0, 70)\n",
        "\n",
        "plt.show()"
      ]
    },
    {
      "cell_type": "markdown",
      "metadata": {
        "pycharm": {
          "name": "#%% md\n"
        },
        "id": "BB9Tg879l8Y1"
      },
      "source": [
        "Из графиков и данных выше явно заметны отличия различных типов градиентного спуска. <br>\n",
        "**1) Полный** <br>\n",
        "Довольно быстро достигает минимума: он имеет наименьшее количество итераций в данных и график, который резко убывает. <br>\n",
        "**2) Стохастический** <br>\n",
        "Требует наибольшего количества итераций для нахождения минимума, тем не менее график довольно быстро убывает <br>\n",
        "**3) Метод инерции** <br>\n",
        "Имеет меньшее количество шагов по сравнению со стохастическим, но график убывает не монотонно: он имеет пилообразный вид. <br>\n",
        "**4) Adam** <br>\n",
        "Наиболее эффективный по количеству шагов после полного, график также убывает довольно быстро, но не монотонно: после резкого убывания наблюдаются интервалы небольшого возрастания. <br>"
      ]
    },
    {
      "cell_type": "markdown",
      "metadata": {
        "pycharm": {
          "name": "#%% md\n"
        },
        "id": "Ze8B229Dl8Y2"
      },
      "source": [
        "## Стохастический градиентный спуск и размер батча\n",
        "\n",
        "Исследуем влияние размера батча на работу стохастического градиентного спуска.\n",
        "\n",
        "* Сделаем по несколько запусков стохастического градиентного спуска на обучающей выборке для каждого размера батча из перебираемого списка. Замерим время в секундах и количество итераций до сходимости. Посчитаем среднее этих значений для каждого размера батча.\n",
        "* Построим график зависимости количества шагов до сходимости от размера батча.\n",
        "* Построим график зависимости времени до сходимости от размера батча."
      ]
    },
    {
      "cell_type": "code",
      "execution_count": null,
      "metadata": {
        "pycharm": {
          "name": "#%%\n"
        },
        "id": "VYu1rPMPl8Y2",
        "colab": {
          "base_uri": "https://localhost:8080/",
          "height": 481
        },
        "outputId": "b9b88948-8080-45d3-fdcd-bdb94f93a530"
      },
      "outputs": [
        {
          "output_type": "execute_result",
          "data": {
            "text/plain": [
              "[<matplotlib.lines.Line2D at 0x7f060036e760>]"
            ]
          },
          "metadata": {},
          "execution_count": 44
        },
        {
          "output_type": "display_data",
          "data": {
            "text/plain": [
              "<Figure size 1080x504 with 2 Axes>"
            ],
            "image/png": "[encoded data removed]"
          },
          "metadata": {}
        }
      ],
      "source": [
        "import time\n",
        "\n",
        "batch_sizes = np.arange(5, 500, 10)\n",
        "\n",
        "iteration_num = []\n",
        "time_spent = []\n",
        "\n",
        "\n",
        "for size in batch_sizes:\n",
        "  cur_iteration_num = []\n",
        "  cur_time = []\n",
        "  for k in range(10):\n",
        "    start = time.process_time()\n",
        "    descent_config['descent_name'] = 'stochastic'\n",
        "    descent_config['kwargs']['batch_size'] = size\n",
        "    regression = LinearRegression(descent_config=descent_config)\n",
        "    regression.fit(X_train, y_train)\n",
        "    cur_time.append(time.process_time() - start)\n",
        "    cur_iteration_num.append(len(regression.loss_history))\n",
        "  iteration_num.append(np.array(cur_iteration_num).mean())\n",
        "  time_spent.append(np.array(cur_time).mean())\n",
        "\n",
        "plt.figure(figsize=(15, 7))\n",
        "\n",
        "plt.subplot(1, 2, 1)\n",
        "plt.plot(batch_sizes, iteration_num)\n",
        "plt.title('Batch size vs number of iterations')\n",
        "plt.xlabel('Batch size')\n",
        "plt.ylabel('Number of iterations')\n",
        "plt.subplot(1, 2, 2)\n",
        "plt.title('Batch size vs time spent')\n",
        "plt.xlabel('Batch size')\n",
        "plt.ylabel('Time spent (seconds)')\n",
        "plt.plot(batch_sizes, time_spent)\n"
      ]
    },
    {
      "cell_type": "markdown",
      "metadata": {
        "pycharm": {
          "name": "#%% md\n"
        },
        "id": "Hg483WR3l8Y3"
      },
      "source": [
        "Если рассмотреть зависимость количества итераций и времени от размера батча, то в обоих случаях мы наблюдаем тренд на снижения на значениях размера от 5 до 500. Это происходит в силу того, что больший размер батча позволяет более точно определить направление антиградиента функции. Однако, следует заметить, что при дальнейшем увеличении размера батча экономия времени за счёт уменьшения количества шагов может быть нивелирована увеличением времени на расчёт градиента.\n"
      ]
    }
  ],
  "metadata": {
    "kernelspec": {
      "display_name": "Python 3 (ipykernel)",
      "language": "python",
      "name": "python3"
    },
    "language_info": {
      "codemirror_mode": {
        "name": "ipython",
        "version": 3
      },
      "file_extension": ".py",
      "mimetype": "text/x-python",
      "name": "python",
      "nbconvert_exporter": "python",
      "pygments_lexer": "ipython3",
      "version": "3.10.6"
    },
    "colab": {
      "provenance": []
    }
  },
  "nbformat": 4,
  "nbformat_minor": 0
}